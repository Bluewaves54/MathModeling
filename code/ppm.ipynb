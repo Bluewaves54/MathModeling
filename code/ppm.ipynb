{
 "cells": [
  {
   "cell_type": "code",
   "execution_count": 1,
   "metadata": {},
   "outputs": [],
   "source": [
    "# Imports modules\n",
    "import numpy as np\n",
    "import tensorflow as tf\n",
    "import pandas as pd\n",
    "from matplotlib import pyplot as plt\n",
    "from sklearn.preprocessing import MinMaxScaler"
   ]
  },
  {
   "cell_type": "code",
   "execution_count": 17,
   "metadata": {},
   "outputs": [],
   "source": [
    "#Loads dataset and seperates into X and Y\n",
    "scaler = MinMaxScaler()\n",
    "def get_data(data):\n",
    "\n",
    "    dataset = pd.read_csv(data, on_bad_lines='skip')\n",
    "\n",
    "    X = np.array(dataset.Year[:-1]).reshape(-1, 1)\n",
    "    X = scaler.fit_transform(X)\n",
    "    Y = dataset['PPM'][1:]\n",
    "\n",
    "    X_new = np.zeros((len(X), len(X), 2))\n",
    "\n",
    "    for i in range(len(X)):\n",
    "        for j in range(i):\n",
    "            X_new[i, (len(X)-j-1), 0] = X[i-j]\n",
    "            X_new[i, (len(X)-j-1), 1] = Y[i-j]\n",
    "    X = X_new\n",
    "    return X, Y\n",
    "\n",
    "X, Y = get_data('../data/ppm.csv')"
   ]
  },
  {
   "cell_type": "code",
   "execution_count": null,
   "metadata": {},
   "outputs": [],
   "source": []
  }
 ],
 "metadata": {
  "kernelspec": {
   "display_name": "Python 3.9.12 ('base')",
   "language": "python",
   "name": "python3"
  },
  "language_info": {
   "codemirror_mode": {
    "name": "ipython",
    "version": 3
   },
   "file_extension": ".py",
   "mimetype": "text/x-python",
   "name": "python",
   "nbconvert_exporter": "python",
   "pygments_lexer": "ipython3",
   "version": "3.9.12"
  },
  "orig_nbformat": 4,
  "vscode": {
   "interpreter": {
    "hash": "0467c16d4e73dba61dcc106221b4b7c95372fa61fc6cc648ee99bca30bbaf279"
   }
  }
 },
 "nbformat": 4,
 "nbformat_minor": 2
}
