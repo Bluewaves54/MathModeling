{
 "cells": [
  {
   "cell_type": "code",
<<<<<<< HEAD
   "execution_count": 2,
=======
   "execution_count": 1,
>>>>>>> 2aebcb46b846551a055c28a616be82f9c1abd7a6
   "metadata": {},
   "outputs": [],
   "source": [
    "# Imports modules\n",
    "import numpy as np\n",
    "import tensorflow as tf\n",
    "import pandas as pd\n",
    "from matplotlib import pyplot as plt\n",
    "from sklearn.preprocessing import MinMaxScaler"
   ]
  },
  {
   "cell_type": "code",
<<<<<<< HEAD
   "execution_count": 24,
   "metadata": {},
   "outputs": [
    {
     "name": "stdout",
     "output_type": "stream",
     "text": [
      "[[   0.      0.  ]\n",
      " [1960.    316.91]\n",
      " [1961.    317.64]\n",
      " [1962.    318.45]\n",
      " [1963.    318.99]\n",
      " [1964.    319.62]\n",
      " [1965.    320.04]\n",
      " [1966.    321.37]\n",
      " [1967.    322.18]\n",
      " [1968.    323.05]\n",
      " [1969.    324.62]\n",
      " [1970.    325.68]\n",
      " [1971.    326.32]\n",
      " [1972.    327.46]\n",
      " [1973.    329.68]\n",
      " [1974.    330.19]\n",
      " [1975.    331.13]\n",
      " [1976.    332.03]\n",
      " [1977.    333.84]\n",
      " [1978.    335.41]\n",
      " [1979.    336.84]\n",
      " [1980.    338.76]\n",
      " [1981.    340.12]\n",
      " [1982.    341.48]\n",
      " [1983.    343.15]\n",
      " [1984.    344.87]\n",
      " [1985.    346.35]\n",
      " [1986.    347.61]\n",
      " [1987.    349.31]\n",
      " [1988.    351.69]\n",
      " [1989.    353.2 ]\n",
      " [1990.    354.45]\n",
      " [1991.    355.7 ]\n",
      " [1992.    356.54]\n",
      " [1993.    357.21]\n",
      " [1994.    358.96]\n",
      " [1995.    360.97]\n",
      " [1996.    362.74]\n",
      " [1997.    363.88]\n",
      " [1998.    366.84]\n",
      " [1999.    368.54]\n",
      " [2000.    369.71]\n",
      " [2001.    371.32]\n",
      " [2002.    373.45]\n",
      " [2003.    375.98]\n",
      " [2004.    377.7 ]\n",
      " [2005.    379.98]\n",
      " [2006.    382.09]\n",
      " [2007.    384.02]\n",
      " [2008.    385.83]\n",
      " [2009.    387.64]\n",
      " [2010.    390.1 ]\n",
      " [2011.    391.85]\n",
      " [2012.    394.06]\n",
      " [2013.    396.74]\n",
      " [2014.    398.81]\n",
      " [2015.    401.01]\n",
      " [2016.    404.41]\n",
      " [2017.    406.76]\n",
      " [2018.    408.72]\n",
      " [2019.    411.66]\n",
      " [2020.    414.24]]\n"
     ]
    }
   ],
=======
   "execution_count": 17,
   "metadata": {},
   "outputs": [],
>>>>>>> 2aebcb46b846551a055c28a616be82f9c1abd7a6
   "source": [
    "#Loads dataset and seperates into X and Y\n",
    "scaler = MinMaxScaler()\n",
    "def get_data(data):\n",
<<<<<<< HEAD
    "    dataset = pd.read_csv(data, on_bad_lines='skip')\n",
    "    X = dataset.Year[:-1]\n",
    "    X = scaler.fit_transform(X)\n",
    "    Y = dataset['PPM'][1:]\n",
    "    X_new = np.zeros((X.shape[0],X.shape[0],2))\n",
    "    for i in range(X.shape[0]):\n",
    "        for j in range(i):\n",
    "            X_new[i,(X.shape[0]-j-1),0] = X[i-j]\n",
    "            X_new[i,(X.shape[0]-j-1),1] = Y[i-j]\n",
    "    X = X_new\n",
    "    return X, Y\n",
    "\n",
    "X, Y = get_data('../dataset/ppm.csv')"
=======
    "\n",
    "    dataset = pd.read_csv(data, on_bad_lines='skip')\n",
    "\n",
    "    X = np.array(dataset.Year[:-1]).reshape(-1, 1)\n",
    "    X = scaler.fit_transform(X)\n",
    "    Y = dataset['PPM'][1:]\n",
    "\n",
    "    X_new = np.zeros((len(X), len(X), 2))\n",
    "\n",
    "    for i in range(len(X)):\n",
    "        for j in range(i):\n",
    "            X_new[i, (len(X)-j-1), 0] = X[i-j]\n",
    "            X_new[i, (len(X)-j-1), 1] = Y[i-j]\n",
    "    X = X_new\n",
    "    return X, Y\n",
    "\n",
    "X, Y = get_data('../data/ppm.csv')"
>>>>>>> 2aebcb46b846551a055c28a616be82f9c1abd7a6
   ]
  },
  {
   "cell_type": "code",
   "execution_count": null,
   "metadata": {},
   "outputs": [],
   "source": []
  }
 ],
 "metadata": {
  "kernelspec": {
   "display_name": "Python 3.9.12 ('base')",
   "language": "python",
   "name": "python3"
  },
  "language_info": {
   "codemirror_mode": {
    "name": "ipython",
    "version": 3
   },
   "file_extension": ".py",
   "mimetype": "text/x-python",
   "name": "python",
   "nbconvert_exporter": "python",
   "pygments_lexer": "ipython3",
   "version": "3.9.12"
  },
  "orig_nbformat": 4,
  "vscode": {
   "interpreter": {
    "hash": "0467c16d4e73dba61dcc106221b4b7c95372fa61fc6cc648ee99bca30bbaf279"
   }
  }
 },
 "nbformat": 4,
 "nbformat_minor": 2
}
