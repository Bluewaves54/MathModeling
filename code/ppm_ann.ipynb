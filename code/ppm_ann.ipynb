{
 "cells": [
  {
   "cell_type": "code",
   "execution_count": 1,
   "metadata": {},
   "outputs": [],
   "source": [
    "import numpy as np\n",
    "import pandas as pd\n",
    "from matplotlib import pyplot as plt\n",
    "\n",
    "import tensorflow as tf\n",
    "from keras.layers import Dense, Activation, Input, Dropout\n",
    "from keras import Sequential\n",
    "\n",
    "from sklearn.model_selection import train_test_split as tts, StratifiedKFold as skf"
   ]
  },
  {
   "cell_type": "code",
   "execution_count": 2,
   "metadata": {},
   "outputs": [],
   "source": [
    "data = pd.read_csv('../data/ppm.csv')\n",
    "\n",
    "X = data.Year\n",
    "Y = data.PPM"
   ]
  },
  {
   "cell_type": "code",
   "execution_count": 3,
   "metadata": {},
   "outputs": [
    {
     "data": {
      "text/plain": [
       "0    315.98\n",
       "1    316.91\n",
       "2    317.64\n",
       "3    318.45\n",
       "4    318.99\n",
       "Name: PPM, dtype: float64"
      ]
     },
     "execution_count": 3,
     "metadata": {},
     "output_type": "execute_result"
    }
   ],
   "source": [
    "Y.head()"
   ]
  },
  {
   "cell_type": "code",
   "execution_count": 44,
   "metadata": {},
   "outputs": [
    {
     "name": "stdout",
     "output_type": "stream",
     "text": [
      "Epoch 1/100\n",
      "17/17 [==============================] - 1s 25ms/step - loss: 194.1770 - mae: 194.1770 - val_loss: 93.4161 - val_mae: 93.4161\n",
      "Epoch 2/100\n",
      "17/17 [==============================] - 0s 5ms/step - loss: 44.5157 - mae: 44.5157 - val_loss: 20.5781 - val_mae: 20.5781\n",
      "Epoch 3/100\n",
      "17/17 [==============================] - 0s 5ms/step - loss: 38.9453 - mae: 38.9453 - val_loss: 54.5289 - val_mae: 54.5289\n",
      "Epoch 4/100\n",
      "17/17 [==============================] - 0s 5ms/step - loss: 35.1074 - mae: 35.1074 - val_loss: 21.1630 - val_mae: 21.1630\n",
      "Epoch 5/100\n",
      "17/17 [==============================] - 0s 5ms/step - loss: 33.1315 - mae: 33.1315 - val_loss: 65.9559 - val_mae: 65.9559\n",
      "Epoch 6/100\n",
      "17/17 [==============================] - 0s 4ms/step - loss: 32.0239 - mae: 32.0239 - val_loss: 31.2756 - val_mae: 31.2756\n",
      "Epoch 7/100\n",
      "17/17 [==============================] - 0s 4ms/step - loss: 29.6063 - mae: 29.6063 - val_loss: 29.8304 - val_mae: 29.8304\n",
      "Epoch 8/100\n",
      "17/17 [==============================] - 0s 4ms/step - loss: 30.2406 - mae: 30.2406 - val_loss: 47.6868 - val_mae: 47.6868\n",
      "Epoch 9/100\n",
      "17/17 [==============================] - 0s 5ms/step - loss: 28.6859 - mae: 28.6859 - val_loss: 39.2785 - val_mae: 39.2785\n",
      "Epoch 10/100\n",
      "17/17 [==============================] - 0s 5ms/step - loss: 27.0580 - mae: 27.0580 - val_loss: 37.0281 - val_mae: 37.0281\n",
      "Epoch 11/100\n",
      "17/17 [==============================] - 0s 4ms/step - loss: 29.8907 - mae: 29.8907 - val_loss: 20.7541 - val_mae: 20.7541\n",
      "Epoch 12/100\n",
      "17/17 [==============================] - 0s 5ms/step - loss: 29.9316 - mae: 29.9316 - val_loss: 24.8753 - val_mae: 24.8753\n",
      "Epoch 13/100\n",
      "17/17 [==============================] - 0s 5ms/step - loss: 27.6672 - mae: 27.6672 - val_loss: 28.4505 - val_mae: 28.4505\n",
      "Epoch 14/100\n",
      "17/17 [==============================] - 0s 5ms/step - loss: 27.4027 - mae: 27.4027 - val_loss: 25.4126 - val_mae: 25.4126\n",
      "Epoch 15/100\n",
      "17/17 [==============================] - 0s 5ms/step - loss: 26.1430 - mae: 26.1430 - val_loss: 22.5494 - val_mae: 22.5494\n",
      "Epoch 16/100\n",
      "17/17 [==============================] - 0s 5ms/step - loss: 29.0022 - mae: 29.0022 - val_loss: 24.7908 - val_mae: 24.7908\n",
      "Epoch 17/100\n",
      "17/17 [==============================] - 0s 4ms/step - loss: 25.9712 - mae: 25.9712 - val_loss: 20.2087 - val_mae: 20.2087\n",
      "Epoch 18/100\n",
      "17/17 [==============================] - 0s 4ms/step - loss: 27.8166 - mae: 27.8166 - val_loss: 20.1090 - val_mae: 20.1090\n",
      "Epoch 19/100\n",
      "17/17 [==============================] - 0s 5ms/step - loss: 26.1734 - mae: 26.1734 - val_loss: 24.1351 - val_mae: 24.1351\n",
      "Epoch 20/100\n",
      "17/17 [==============================] - 0s 5ms/step - loss: 25.8422 - mae: 25.8422 - val_loss: 21.6664 - val_mae: 21.6664\n",
      "Epoch 21/100\n",
      "17/17 [==============================] - 0s 4ms/step - loss: 27.9764 - mae: 27.9764 - val_loss: 28.5763 - val_mae: 28.5763\n",
      "Epoch 22/100\n",
      "17/17 [==============================] - 0s 4ms/step - loss: 27.3739 - mae: 27.3739 - val_loss: 21.3076 - val_mae: 21.3076\n",
      "Epoch 23/100\n",
      "17/17 [==============================] - 0s 4ms/step - loss: 25.4105 - mae: 25.4105 - val_loss: 20.3406 - val_mae: 20.3406\n",
      "Epoch 24/100\n",
      "17/17 [==============================] - 0s 4ms/step - loss: 29.6719 - mae: 29.6719 - val_loss: 26.3880 - val_mae: 26.3880\n",
      "Epoch 25/100\n",
      "17/17 [==============================] - 0s 4ms/step - loss: 30.8382 - mae: 30.8382 - val_loss: 20.4654 - val_mae: 20.4654\n",
      "Epoch 26/100\n",
      "17/17 [==============================] - 0s 4ms/step - loss: 26.3667 - mae: 26.3667 - val_loss: 21.8391 - val_mae: 21.8391\n",
      "Epoch 27/100\n",
      "17/17 [==============================] - 0s 5ms/step - loss: 29.8468 - mae: 29.8468 - val_loss: 20.4304 - val_mae: 20.4304\n",
      "Epoch 28/100\n",
      "17/17 [==============================] - 0s 4ms/step - loss: 28.3860 - mae: 28.3860 - val_loss: 20.3567 - val_mae: 20.3567\n",
      "Epoch 29/100\n",
      "17/17 [==============================] - 0s 5ms/step - loss: 28.2504 - mae: 28.2504 - val_loss: 20.9915 - val_mae: 20.9915\n",
      "Epoch 30/100\n",
      "17/17 [==============================] - 0s 4ms/step - loss: 23.8249 - mae: 23.8249 - val_loss: 34.8022 - val_mae: 34.8022\n",
      "Epoch 31/100\n",
      "17/17 [==============================] - 0s 5ms/step - loss: 26.7032 - mae: 26.7032 - val_loss: 22.8762 - val_mae: 22.8762\n",
      "Epoch 32/100\n",
      "17/17 [==============================] - 0s 5ms/step - loss: 24.7318 - mae: 24.7318 - val_loss: 22.6494 - val_mae: 22.6494\n",
      "Epoch 33/100\n",
      "17/17 [==============================] - 0s 5ms/step - loss: 25.5105 - mae: 25.5105 - val_loss: 20.1725 - val_mae: 20.1725\n",
      "Epoch 34/100\n",
      "17/17 [==============================] - 0s 4ms/step - loss: 28.3883 - mae: 28.3883 - val_loss: 21.5125 - val_mae: 21.5125\n",
      "Epoch 35/100\n",
      "17/17 [==============================] - 0s 5ms/step - loss: 25.4529 - mae: 25.4529 - val_loss: 21.7972 - val_mae: 21.7972\n",
      "Epoch 36/100\n",
      "17/17 [==============================] - 0s 5ms/step - loss: 26.8690 - mae: 26.8690 - val_loss: 25.5966 - val_mae: 25.5966\n",
      "Epoch 37/100\n",
      "17/17 [==============================] - 0s 4ms/step - loss: 25.2913 - mae: 25.2913 - val_loss: 20.6816 - val_mae: 20.6816\n",
      "Epoch 38/100\n",
      "17/17 [==============================] - 0s 4ms/step - loss: 23.6368 - mae: 23.6368 - val_loss: 22.7029 - val_mae: 22.7029\n",
      "Epoch 39/100\n",
      "17/17 [==============================] - 0s 4ms/step - loss: 26.8830 - mae: 26.8830 - val_loss: 20.2753 - val_mae: 20.2753\n",
      "Epoch 40/100\n",
      "17/17 [==============================] - 0s 4ms/step - loss: 27.1175 - mae: 27.1175 - val_loss: 20.5058 - val_mae: 20.5058\n",
      "Epoch 41/100\n",
      "17/17 [==============================] - 0s 4ms/step - loss: 25.9945 - mae: 25.9945 - val_loss: 20.4550 - val_mae: 20.4550\n",
      "Epoch 42/100\n",
      "17/17 [==============================] - 0s 5ms/step - loss: 25.8010 - mae: 25.8010 - val_loss: 29.0763 - val_mae: 29.0763\n",
      "Epoch 43/100\n",
      "17/17 [==============================] - 0s 5ms/step - loss: 27.5511 - mae: 27.5511 - val_loss: 20.1635 - val_mae: 20.1635\n",
      "Epoch 44/100\n",
      "17/17 [==============================] - 0s 4ms/step - loss: 25.7345 - mae: 25.7345 - val_loss: 27.0733 - val_mae: 27.0733\n",
      "Epoch 45/100\n",
      "17/17 [==============================] - 0s 5ms/step - loss: 27.8402 - mae: 27.8402 - val_loss: 21.7645 - val_mae: 21.7645\n",
      "Epoch 46/100\n",
      "17/17 [==============================] - 0s 4ms/step - loss: 25.3977 - mae: 25.3977 - val_loss: 32.2115 - val_mae: 32.2115\n",
      "Epoch 47/100\n",
      "17/17 [==============================] - 0s 5ms/step - loss: 23.2139 - mae: 23.2139 - val_loss: 21.6934 - val_mae: 21.6934\n",
      "Epoch 48/100\n",
      "17/17 [==============================] - 0s 5ms/step - loss: 22.7175 - mae: 22.7175 - val_loss: 24.1532 - val_mae: 24.1532\n",
      "Epoch 49/100\n",
      "17/17 [==============================] - 0s 5ms/step - loss: 24.7330 - mae: 24.7330 - val_loss: 24.5008 - val_mae: 24.5008\n",
      "Epoch 50/100\n",
      "17/17 [==============================] - 0s 4ms/step - loss: 25.7995 - mae: 25.7995 - val_loss: 20.1922 - val_mae: 20.1922\n",
      "Epoch 51/100\n",
      "17/17 [==============================] - 0s 4ms/step - loss: 26.8882 - mae: 26.8882 - val_loss: 21.0305 - val_mae: 21.0305\n",
      "Epoch 52/100\n",
      "17/17 [==============================] - 0s 4ms/step - loss: 21.1617 - mae: 21.1617 - val_loss: 22.1831 - val_mae: 22.1831\n",
      "Epoch 53/100\n",
      "17/17 [==============================] - 0s 5ms/step - loss: 25.0162 - mae: 25.0162 - val_loss: 26.4951 - val_mae: 26.4951\n",
      "Epoch 54/100\n",
      "17/17 [==============================] - 0s 5ms/step - loss: 24.4578 - mae: 24.4578 - val_loss: 20.4504 - val_mae: 20.4504\n",
      "Epoch 55/100\n",
      "17/17 [==============================] - 0s 4ms/step - loss: 23.4355 - mae: 23.4355 - val_loss: 20.6438 - val_mae: 20.6438\n",
      "Epoch 56/100\n",
      "17/17 [==============================] - 0s 4ms/step - loss: 25.7340 - mae: 25.7340 - val_loss: 20.3640 - val_mae: 20.3640\n",
      "Epoch 57/100\n",
      "17/17 [==============================] - 0s 4ms/step - loss: 24.3405 - mae: 24.3405 - val_loss: 20.3756 - val_mae: 20.3756\n",
      "Epoch 58/100\n",
      "17/17 [==============================] - 0s 4ms/step - loss: 26.0535 - mae: 26.0535 - val_loss: 25.2121 - val_mae: 25.2121\n",
      "Epoch 59/100\n",
      "17/17 [==============================] - 0s 4ms/step - loss: 27.7390 - mae: 27.7390 - val_loss: 20.4323 - val_mae: 20.4323\n",
      "Epoch 60/100\n",
      "17/17 [==============================] - 0s 4ms/step - loss: 26.6187 - mae: 26.6187 - val_loss: 32.0758 - val_mae: 32.0758\n",
      "Epoch 61/100\n",
      "17/17 [==============================] - 0s 4ms/step - loss: 29.1180 - mae: 29.1180 - val_loss: 29.1515 - val_mae: 29.1515\n",
      "Epoch 62/100\n",
      "17/17 [==============================] - 0s 4ms/step - loss: 25.9345 - mae: 25.9345 - val_loss: 25.1630 - val_mae: 25.1630\n",
      "Epoch 63/100\n",
      "17/17 [==============================] - 0s 4ms/step - loss: 26.5292 - mae: 26.5292 - val_loss: 22.5590 - val_mae: 22.5590\n",
      "Epoch 64/100\n",
      "17/17 [==============================] - 0s 5ms/step - loss: 24.9411 - mae: 24.9411 - val_loss: 25.5838 - val_mae: 25.5838\n",
      "Epoch 65/100\n",
      "17/17 [==============================] - 0s 4ms/step - loss: 24.1225 - mae: 24.1225 - val_loss: 34.9201 - val_mae: 34.9201\n",
      "Epoch 66/100\n",
      "17/17 [==============================] - 0s 4ms/step - loss: 24.3862 - mae: 24.3862 - val_loss: 22.8673 - val_mae: 22.8673\n",
      "Epoch 67/100\n",
      "17/17 [==============================] - 0s 4ms/step - loss: 24.0288 - mae: 24.0288 - val_loss: 31.4273 - val_mae: 31.4273\n",
      "Epoch 68/100\n",
      "17/17 [==============================] - 0s 5ms/step - loss: 25.1596 - mae: 25.1596 - val_loss: 25.1930 - val_mae: 25.1930\n",
      "Epoch 69/100\n",
      "17/17 [==============================] - 0s 5ms/step - loss: 24.2811 - mae: 24.2811 - val_loss: 28.2598 - val_mae: 28.2598\n",
      "Epoch 70/100\n",
      "17/17 [==============================] - 0s 5ms/step - loss: 25.5813 - mae: 25.5813 - val_loss: 21.3024 - val_mae: 21.3024\n",
      "Epoch 71/100\n",
      "17/17 [==============================] - 0s 5ms/step - loss: 24.0307 - mae: 24.0307 - val_loss: 23.1265 - val_mae: 23.1265\n",
      "Epoch 72/100\n",
      "17/17 [==============================] - 0s 5ms/step - loss: 25.5687 - mae: 25.5687 - val_loss: 20.1376 - val_mae: 20.1376\n",
      "Epoch 73/100\n",
      "17/17 [==============================] - 0s 4ms/step - loss: 22.7561 - mae: 22.7561 - val_loss: 23.2641 - val_mae: 23.2641\n",
      "Epoch 74/100\n",
      "17/17 [==============================] - 0s 4ms/step - loss: 23.4820 - mae: 23.4820 - val_loss: 28.2734 - val_mae: 28.2734\n",
      "Epoch 75/100\n",
      "17/17 [==============================] - 0s 4ms/step - loss: 26.2667 - mae: 26.2667 - val_loss: 20.6190 - val_mae: 20.6190\n",
      "Epoch 76/100\n",
      "17/17 [==============================] - 0s 4ms/step - loss: 25.1980 - mae: 25.1980 - val_loss: 26.0504 - val_mae: 26.0504\n",
      "Epoch 77/100\n",
      "17/17 [==============================] - 0s 4ms/step - loss: 24.9827 - mae: 24.9827 - val_loss: 20.2326 - val_mae: 20.2326\n",
      "Epoch 78/100\n",
      "17/17 [==============================] - 0s 4ms/step - loss: 24.1192 - mae: 24.1192 - val_loss: 21.2694 - val_mae: 21.2694\n",
      "Epoch 79/100\n",
      "17/17 [==============================] - 0s 4ms/step - loss: 26.1125 - mae: 26.1125 - val_loss: 22.8405 - val_mae: 22.8405\n",
      "Epoch 80/100\n",
      "17/17 [==============================] - 0s 4ms/step - loss: 25.0921 - mae: 25.0921 - val_loss: 21.5964 - val_mae: 21.5964\n",
      "Epoch 81/100\n",
      "17/17 [==============================] - 0s 4ms/step - loss: 24.9551 - mae: 24.9551 - val_loss: 21.6548 - val_mae: 21.6548\n",
      "Epoch 82/100\n",
      "17/17 [==============================] - 0s 4ms/step - loss: 25.0728 - mae: 25.0728 - val_loss: 21.0161 - val_mae: 21.0161\n",
      "Epoch 83/100\n",
      "17/17 [==============================] - 0s 4ms/step - loss: 26.7504 - mae: 26.7504 - val_loss: 20.9163 - val_mae: 20.9163\n",
      "Epoch 84/100\n",
      "17/17 [==============================] - 0s 4ms/step - loss: 24.8299 - mae: 24.8299 - val_loss: 21.9709 - val_mae: 21.9709\n",
      "Epoch 85/100\n",
      "17/17 [==============================] - 0s 4ms/step - loss: 27.4381 - mae: 27.4381 - val_loss: 20.4690 - val_mae: 20.4690\n",
      "Epoch 86/100\n",
      "17/17 [==============================] - 0s 4ms/step - loss: 24.6244 - mae: 24.6244 - val_loss: 25.5575 - val_mae: 25.5575\n",
      "Epoch 87/100\n",
      "17/17 [==============================] - 0s 4ms/step - loss: 26.0472 - mae: 26.0472 - val_loss: 23.3703 - val_mae: 23.3703\n",
      "Epoch 88/100\n",
      "17/17 [==============================] - 0s 5ms/step - loss: 24.8790 - mae: 24.8790 - val_loss: 23.4376 - val_mae: 23.4376\n",
      "Epoch 89/100\n",
      "17/17 [==============================] - 0s 4ms/step - loss: 25.9474 - mae: 25.9474 - val_loss: 20.6616 - val_mae: 20.6616\n",
      "Epoch 90/100\n",
      "17/17 [==============================] - 0s 4ms/step - loss: 24.0168 - mae: 24.0168 - val_loss: 20.6505 - val_mae: 20.6505\n",
      "Epoch 91/100\n",
      "17/17 [==============================] - 0s 4ms/step - loss: 24.8098 - mae: 24.8098 - val_loss: 21.6918 - val_mae: 21.6918\n",
      "Epoch 92/100\n",
      "17/17 [==============================] - 0s 4ms/step - loss: 25.8339 - mae: 25.8339 - val_loss: 20.3335 - val_mae: 20.3335\n",
      "Epoch 93/100\n",
      "17/17 [==============================] - 0s 5ms/step - loss: 23.3217 - mae: 23.3217 - val_loss: 20.3646 - val_mae: 20.3646\n",
      "Epoch 94/100\n",
      "17/17 [==============================] - 0s 4ms/step - loss: 24.6932 - mae: 24.6932 - val_loss: 21.6445 - val_mae: 21.6445\n",
      "Epoch 95/100\n",
      "17/17 [==============================] - 0s 4ms/step - loss: 22.3755 - mae: 22.3755 - val_loss: 27.4561 - val_mae: 27.4561\n",
      "Epoch 96/100\n",
      "17/17 [==============================] - 0s 4ms/step - loss: 26.6835 - mae: 26.6835 - val_loss: 21.4147 - val_mae: 21.4147\n",
      "Epoch 97/100\n",
      "17/17 [==============================] - 0s 4ms/step - loss: 24.6349 - mae: 24.6349 - val_loss: 20.8506 - val_mae: 20.8506\n",
      "Epoch 98/100\n",
      "17/17 [==============================] - 0s 4ms/step - loss: 24.1095 - mae: 24.1095 - val_loss: 25.7085 - val_mae: 25.7085\n",
      "Epoch 99/100\n",
      "17/17 [==============================] - 0s 4ms/step - loss: 24.6976 - mae: 24.6976 - val_loss: 25.7904 - val_mae: 25.7904\n",
      "Epoch 100/100\n",
      "17/17 [==============================] - 0s 4ms/step - loss: 25.1324 - mae: 25.1324 - val_loss: 23.2449 - val_mae: 23.2449\n"
     ]
    }
   ],
   "source": [
    "model = Sequential(\n",
    "    [\n",
    "        # Input(shape=(47,)),\n",
    "        Dense(units=4096, activation='relu', input_shape=(1,)),\n",
    "        Dropout(0.2),\n",
    "        # Dense(units=4096, activation='relu'),\n",
    "        Dense(units=2048, activation='relu'),\n",
    "        Dense(units=1024, activation='relu'),\n",
    "        Dense(units=512, activation='relu'),\n",
    "        Dense(units=256, activation='relu'),\n",
    "        Dense(units=128, activation='relu'),\n",
    "        Dense(units=64, activation='relu'),\n",
    "        Dense(units=32, activation='relu'),\n",
    "        Dense(units=16, activation='relu'),\n",
    "        Dense(units=8, activation='relu'),\n",
    "        Dense(units=4, activation='relu'),\n",
    "        Dense(units=1, activation='relu'),\n",
    "    ]\n",
    ")\n",
    "\n",
    "model.compile(optimizer='Adagrad', loss='mae', metrics=['mae'])\n",
    "X_train, X_test, Y_train, Y_test = tts(X, Y, test_size=0.2)\n",
    "\n",
    "history = model.fit(\n",
    "    x=X_train,\n",
    "    y=Y_train,\n",
    "    validation_data=(X_test, Y_test),\n",
    "    batch_size=3,\n",
    "    epochs=100\n",
    ")"
   ]
  },
  {
   "cell_type": "code",
   "execution_count": 45,
   "metadata": {},
   "outputs": [
    {
     "data": {
      "text/plain": [
       "[<matplotlib.lines.Line2D at 0x212ff0ffc10>]"
      ]
     },
     "execution_count": 45,
     "metadata": {},
     "output_type": "execute_result"
    },
    {
     "data": {
      "image/png": "[encoded data removed]",
      "text/plain": [
       "<Figure size 432x288 with 1 Axes>"
      ]
     },
     "metadata": {
      "needs_background": "light"
     },
     "output_type": "display_data"
    }
   ],
   "source": [
    "plt.plot(history.history['loss'])\n",
    "plt.plot(history.history['val_loss'])"
   ]
  },
  {
   "cell_type": "code",
   "execution_count": 46,
   "metadata": {},
   "outputs": [
    {
     "data": {
      "text/plain": [
       "20.109025955200195"
      ]
     },
     "execution_count": 46,
     "metadata": {},
     "output_type": "execute_result"
    },
    {
     "ename": "",
     "evalue": "",
     "output_type": "error",
     "traceback": [
      "\u001b[1;31mThe Kernel crashed while executing code in the the current cell or a previous cell. Please review the code in the cell(s) to identify a possible cause of the failure. Click <a href='https://aka.ms/vscodeJupyterKernelCrash'>here</a> for more info. View Jupyter <a href='command:jupyter.viewOutput'>log</a> for further details."
     ]
    }
   ],
   "source": [
    "min(history.history['val_loss'])"
   ]
  },
  {
   "cell_type": "code",
   "execution_count": null,
   "metadata": {},
   "outputs": [],
   "source": []
  }
 ],
 "metadata": {
  "kernelspec": {
   "display_name": "Python 3.9.12 ('base')",
   "language": "python",
   "name": "python3"
  },
  "language_info": {
   "codemirror_mode": {
    "name": "ipython",
    "version": 3
   },
   "file_extension": ".py",
   "mimetype": "text/x-python",
   "name": "python",
   "nbconvert_exporter": "python",
   "pygments_lexer": "ipython3",
   "version": "3.9.12"
  },
  "orig_nbformat": 4,
  "vscode": {
   "interpreter": {
    "hash": "0467c16d4e73dba61dcc106221b4b7c95372fa61fc6cc648ee99bca30bbaf279"
   }
  }
 },
 "nbformat": 4,
 "nbformat_minor": 2
}
