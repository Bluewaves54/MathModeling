{
 "cells": [
  {
   "cell_type": "code",
   "execution_count": 1,
   "metadata": {},
   "outputs": [],
   "source": [
    "# Imports modules\n",
    "import numpy as np\n",
    "from keras import Sequential\n",
    "from keras.layers import LSTM, Dense\n",
    "import pandas as pd\n",
    "from matplotlib import pyplot as plt\n",
    "from utils import get_data, create_model"
   ]
  },
  {
   "cell_type": "code",
   "execution_count": null,
   "metadata": {},
   "outputs": [],
   "source": [
    "X_train, X_test, Y_train, Y_test"
   ]
  }
 ],
 "metadata": {
  "kernelspec": {
<<<<<<< HEAD
   "display_name": "Python 3.9.12 ('base')",
=======
   "display_name": "Python 3.9.5 ('tensorflow')",
>>>>>>> 35716c7cea87e6bce7e485184ec07330661ae1d7
   "language": "python",
   "name": "python3"
  },
  "language_info": {
   "codemirror_mode": {
    "name": "ipython",
    "version": 3
   },
   "file_extension": ".py",
   "mimetype": "text/x-python",
   "name": "python",
   "nbconvert_exporter": "python",
   "pygments_lexer": "ipython3",
<<<<<<< HEAD
   "version": "3.9.12"
=======
   "version": "3.9.5"
>>>>>>> 35716c7cea87e6bce7e485184ec07330661ae1d7
  },
  "orig_nbformat": 4,
  "vscode": {
   "interpreter": {
<<<<<<< HEAD
    "hash": "21096360398365a9f1d9967aa419e1cfc324a03085554bd8f42696e4d11fd526"
=======
    "hash": "ba1e6839ef3deb718e561e35c71d8f7f1e1b9ba4714db958a154732cb52b0410"
>>>>>>> 35716c7cea87e6bce7e485184ec07330661ae1d7
   }
  }
 },
 "nbformat": 4,
 "nbformat_minor": 2
}
