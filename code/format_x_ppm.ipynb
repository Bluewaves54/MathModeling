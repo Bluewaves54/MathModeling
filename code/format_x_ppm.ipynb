{
 "cells": [
  {
   "cell_type": "code",
   "execution_count": 1,
   "metadata": {},
   "outputs": [],
   "source": [
    "import pandas as pd\n",
    "import numpy as np\n",
    "import matplotlib.pyplot as plt\n",
    "from string import ascii_lowercase"
   ]
  },
  {
   "cell_type": "code",
   "execution_count": 39,
   "metadata": {},
   "outputs": [],
   "source": [
    "def format_ppm_x(data:pd.DataFrame, num_previous_vals: int):\n",
    "    iterator, new_data = list(data.iterrows())[num_previous_vals:], {i: [] for i in range(num_previous_vals+1)[::-1]}\n",
    "    print('checkpoint 1')\n",
    "    for index, val in iterator:\n",
    "        for i in range(num_previous_vals+1)[::-1]:\n",
    "            new_data[i].append(data.iloc[index-i][1])\n",
    "    \n",
    "    return pd.DataFrame(new_data)"
   ]
  },
  {
   "cell_type": "code",
   "execution_count": null,
   "metadata": {},
   "outputs": [],
   "source": [
    "def decompose(data):\n",
    "    eemd_decomp = {ascii_lowercase[i]: val for i, val in enumerate(EEMD(data))}\n",
    "    vmd_decomp = {f'a{i}': val for i, val in VMD(eemd_decomp[0])}\n",
    "    full_decomp = eemd_decomp | vmd_decomp\n",
    "\n",
    "\n",
    "\n"
   ]
  }
 ],
 "metadata": {
  "kernelspec": {
   "display_name": "Python 3.9.12 ('base')",
   "language": "python",
   "name": "python3"
  },
  "language_info": {
   "codemirror_mode": {
    "name": "ipython",
    "version": 3
   },
   "file_extension": ".py",
   "mimetype": "text/x-python",
   "name": "python",
   "nbconvert_exporter": "python",
   "pygments_lexer": "ipython3",
   "version": "3.9.12"
  },
  "orig_nbformat": 4,
  "vscode": {
   "interpreter": {
    "hash": "21096360398365a9f1d9967aa419e1cfc324a03085554bd8f42696e4d11fd526"
   }
  }
 },
 "nbformat": 4,
 "nbformat_minor": 2
}
