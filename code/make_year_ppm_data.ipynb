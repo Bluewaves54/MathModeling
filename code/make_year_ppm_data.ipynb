{
 "cells": [
  {
   "cell_type": "code",
   "execution_count": 1,
   "metadata": {},
   "outputs": [],
   "source": [
    "import pandas as pd\n",
    "import numpy as np"
   ]
  },
  {
   "cell_type": "code",
   "execution_count": 2,
   "metadata": {},
   "outputs": [],
   "source": [
    "data = pd.read_csv('../data/ppm.csv')"
   ]
  },
  {
   "cell_type": "code",
   "execution_count": 3,
   "metadata": {},
   "outputs": [
    {
     "data": {
      "text/html": [
       "<div>\n",
       "<style scoped>\n",
       "    .dataframe tbody tr th:only-of-type {\n",
       "        vertical-align: middle;\n",
       "    }\n",
       "\n",
       "    .dataframe tbody tr th {\n",
       "        vertical-align: top;\n",
       "    }\n",
       "\n",
       "    .dataframe thead th {\n",
       "        text-align: right;\n",
       "    }\n",
       "</style>\n",
       "<table border=\"1\" class=\"dataframe\">\n",
       "  <thead>\n",
       "    <tr style=\"text-align: right;\">\n",
       "      <th></th>\n",
       "      <th>Year</th>\n",
       "      <th>PPM</th>\n",
       "    </tr>\n",
       "  </thead>\n",
       "  <tbody>\n",
       "    <tr>\n",
       "      <th>0</th>\n",
       "      <td>1959</td>\n",
       "      <td>315.98</td>\n",
       "    </tr>\n",
       "    <tr>\n",
       "      <th>1</th>\n",
       "      <td>1960</td>\n",
       "      <td>316.91</td>\n",
       "    </tr>\n",
       "    <tr>\n",
       "      <th>2</th>\n",
       "      <td>1961</td>\n",
       "      <td>317.64</td>\n",
       "    </tr>\n",
       "    <tr>\n",
       "      <th>3</th>\n",
       "      <td>1962</td>\n",
       "      <td>318.45</td>\n",
       "    </tr>\n",
       "    <tr>\n",
       "      <th>4</th>\n",
       "      <td>1963</td>\n",
       "      <td>318.99</td>\n",
       "    </tr>\n",
       "  </tbody>\n",
       "</table>\n",
       "</div>"
      ],
      "text/plain": [
       "   Year     PPM\n",
       "0  1959  315.98\n",
       "1  1960  316.91\n",
       "2  1961  317.64\n",
       "3  1962  318.45\n",
       "4  1963  318.99"
      ]
     },
     "execution_count": 3,
     "metadata": {},
     "output_type": "execute_result"
    }
   ],
   "source": [
    "data.head()"
   ]
  },
  {
   "cell_type": "code",
   "execution_count": 13,
   "metadata": {},
   "outputs": [
    {
     "name": "stdout",
     "output_type": "stream",
     "text": [
      "315.98\n",
      "316.91\n",
      "317.64\n",
      "318.45\n",
      "318.99\n",
      "319.62\n",
      "320.04\n",
      "321.37\n",
      "322.18\n",
      "323.05\n",
      "324.62\n",
      "325.68\n",
      "326.32\n",
      "327.46\n",
      "329.68\n",
      "330.19\n",
      "331.13\n",
      "332.03\n",
      "333.84\n",
      "335.41\n",
      "336.84\n",
      "338.76\n",
      "340.12\n",
      "341.48\n",
      "343.15\n",
      "344.87\n",
      "346.35\n",
      "347.61\n",
      "349.31\n",
      "351.69\n",
      "353.2\n",
      "354.45\n",
      "355.7\n",
      "356.54\n",
      "357.21\n",
      "358.96\n",
      "360.97\n",
      "362.74\n",
      "363.88\n",
      "366.84\n",
      "368.54\n",
      "369.71\n",
      "371.32\n",
      "373.45\n",
      "375.98\n",
      "377.7\n",
      "379.98\n",
      "382.09\n",
      "384.02\n",
      "385.83\n",
      "387.64\n",
      "390.1\n",
      "391.85\n",
      "394.06\n",
      "396.74\n",
      "398.81\n",
      "401.01\n",
      "404.41\n",
      "406.76\n",
      "408.72\n",
      "411.66\n",
      "414.24\n",
      "416.45\n"
     ]
    }
   ],
   "source": [
    "for ind, val in data.iterrows():\n",
    "    year, ppm = val\n",
    "    print(ppm)"
   ]
  },
  {
   "cell_type": "code",
   "execution_count": null,
   "metadata": {},
   "outputs": [],
   "source": []
  }
 ],
 "metadata": {
  "kernelspec": {
   "display_name": "Python 3.9.12 ('base')",
   "language": "python",
   "name": "python3"
  },
  "language_info": {
   "codemirror_mode": {
    "name": "ipython",
    "version": 3
   },
   "file_extension": ".py",
   "mimetype": "text/x-python",
   "name": "python",
   "nbconvert_exporter": "python",
   "pygments_lexer": "ipython3",
   "version": "3.9.12"
  },
  "orig_nbformat": 4,
  "vscode": {
   "interpreter": {
    "hash": "0467c16d4e73dba61dcc106221b4b7c95372fa61fc6cc648ee99bca30bbaf279"
   }
  }
 },
 "nbformat": 4,
 "nbformat_minor": 2
}
