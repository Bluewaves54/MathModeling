{
 "cells": [
  {
   "cell_type": "code",
   "execution_count": 3,
   "metadata": {},
   "outputs": [],
   "source": [
    "# Imports modules\n",
    "import numpy as np\n",
    "from keras import Sequential\n",
    "from keras.layers import LSTM, Dense\n",
    "import pandas as pd\n",
    "from matplotlib import pyplot as plt"
   ]
  },
  {
   "cell_type": "code",
   "execution_count": null,
   "metadata": {},
   "outputs": [],
   "source": [
    "batch_size = 5\n",
    "num_features = ()"
   ]
  },
  {
   "cell_type": "code",
   "execution_count": 2,
   "metadata": {},
   "outputs": [],
   "source": [
    "def create_model():\n",
    "    model = Sequential()\n",
<<<<<<< HEAD
    "    model.add(LSTM(128,\n",
    "    dropout=0.2,\n",
    "    activation=\"relu\",\n",
    "    input_shape=[num_features]\n",
    "    ))\n",
    "    model.add(LSTM(64, dropout=0.2))\n",
    "    model.add(LSTM(32, dropout=0.2))\n",
    "    model.add(Dense(1, activation=\"Relu\"))\n",
=======
    "    model.add(LSTM(128, activation = 'relu', dropout = 0.2,))\n",
    "    model.add(LSTM(64, activation = 'relu', dropout = 0.2,))\n",
    "    model.add(LSTM(32, activation = 'relu', dropout = 0.2,))\n",
    "    model.add(Dense(1, activation = \"relu\"))\n",
>>>>>>> 35716c7cea87e6bce7e485184ec07330661ae1d7
    "    return model"
   ]
  },
  {
   "cell_type": "code",
   "execution_count": null,
   "metadata": {},
   "outputs": [],
   "source": []
  }
 ],
 "metadata": {
  "kernelspec": {
   "display_name": "Python 3.9.12 ('base')",
   "language": "python",
   "name": "python3"
  },
  "language_info": {
   "codemirror_mode": {
    "name": "ipython",
    "version": 3
   },
   "file_extension": ".py",
   "mimetype": "text/x-python",
   "name": "python",
   "nbconvert_exporter": "python",
   "pygments_lexer": "ipython3",
   "version": "3.9.12"
  },
  "orig_nbformat": 4,
  "vscode": {
   "interpreter": {
    "hash": "21096360398365a9f1d9967aa419e1cfc324a03085554bd8f42696e4d11fd526"
   }
  }
 },
 "nbformat": 4,
 "nbformat_minor": 2
}
