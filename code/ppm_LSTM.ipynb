{
 "cells": [
  {
   "cell_type": "code",
   "execution_count": 3,
   "metadata": {},
   "outputs": [],
   "source": [
    "# Imports modules\n",
    "import numpy as np\n",
    "from keras import Sequential\n",
    "from keras.layers import LSTM, Dense, InputLayer, BatchNormalization\n",
    "import pandas as pd\n",
    "from matplotlib import pyplot as plt\n",
    "from utils import format_ppm_x\n",
    "\n",
    "import tensorflow as tf\n",
    "\n",
    "from sklearn.model_selection import train_test_split as tts\n",
    "\n",
    "from sklearn.preprocessing import MinMaxScaler\\"
   ]
  },
  {
   "cell_type": "code",
   "execution_count": 4,
   "metadata": {},
   "outputs": [],
   "source": [
    "batch_size = 5\n",
    "num_features = ()\n",
    "num_prev_vals = 8"
   ]
  },
  {
   "cell_type": "code",
   "execution_count": 5,
   "metadata": {},
   "outputs": [
    {
     "name": "stdout",
     "output_type": "stream",
     "text": [
      "checkpoint 1\n"
     ]
    }
   ],
   "source": [
    "data = format_ppm_x(pd.read_csv('../data/ppm.csv'), num_prev_vals)\n",
    "\n",
    "# X = np.array(data.iloc[:, data.columns != 0]).reshape(num_prev_vals*(63-num_prev_vals), 1)\n",
    "X = data.iloc[:, data.columns != 0]\n",
    "\n",
    "scaler = MinMaxScaler()\n",
    "\n",
    "X = scaler.fit_transform(X)\n",
    "\n",
    "Y = data[0]"
   ]
  },
  {
   "cell_type": "code",
   "execution_count": 31,
   "metadata": {},
   "outputs": [],
   "source": [
    "def create_model():\n",
    "    model = Sequential()\n",
    "    model.add(InputLayer(input_shape=(num_prev_vals,1)))\n",
    "    # model.add(LSTM(128, activation='relu', dropout=0.05, return_sequences=True))\n",
    "    model.add(LSTM(64, activation='relu', dropout=0.1, return_sequences=True))\n",
    "    model.add(LSTM(16, activation='relu', dropout=0.05, return_sequences=True))\n",
    "    # model.add(BatchNormalization())\n",
    "    # model.add(Dense(8, activation='relu'))\n",
    "    # model.add(Dense(8, activation='relu'))\n",
    "    model.add(Dense(1, activation='relu'))\n",
    "    return model"
   ]
  },
  {
   "cell_type": "code",
   "execution_count": 35,
   "metadata": {},
   "outputs": [],
   "source": [
    "model = create_model()\n",
    "\n",
    "optimizer = tf.keras.optimizers.SGD(\n",
    "    learning_rate=0.1,\n",
    "    momentum=0.6,\n",
    "    nesterov=True,\n",
    ")\n",
    "\n",
    "model.compile(optimizer='Adagrad', loss='mae', metrics=['mae'])"
   ]
  },
  {
   "cell_type": "code",
   "execution_count": 36,
   "metadata": {},
   "outputs": [
    {
     "name": "stdout",
     "output_type": "stream",
     "text": [
      "Epoch 1/300\n",
      "9/9 [==============================] - 4s 69ms/step - loss: 361.7089 - mae: 361.7089 - val_loss: 367.9928 - val_mae: 367.9928\n",
      "Epoch 2/300\n",
      "9/9 [==============================] - 0s 15ms/step - loss: 361.7020 - mae: 361.7020 - val_loss: 367.9867 - val_mae: 367.9867\n",
      "Epoch 3/300\n",
      "9/9 [==============================] - 0s 11ms/step - loss: 361.6961 - mae: 361.6961 - val_loss: 367.9811 - val_mae: 367.9811\n",
      "Epoch 4/300\n",
      "9/9 [==============================] - 0s 11ms/step - loss: 361.6898 - mae: 361.6898 - val_loss: 367.9753 - val_mae: 367.9753\n",
      "Epoch 5/300\n",
      "9/9 [==============================] - 0s 11ms/step - loss: 361.6844 - mae: 361.6844 - val_loss: 367.9697 - val_mae: 367.9697\n",
      "Epoch 6/300\n",
      "9/9 [==============================] - 0s 10ms/step - loss: 361.6783 - mae: 361.6783 - val_loss: 367.9641 - val_mae: 367.9641\n",
      "Epoch 7/300\n",
      "9/9 [==============================] - 0s 10ms/step - loss: 361.6731 - mae: 361.6731 - val_loss: 367.9586 - val_mae: 367.9586\n",
      "Epoch 8/300\n",
      "9/9 [==============================] - 0s 10ms/step - loss: 361.6679 - mae: 361.6679 - val_loss: 367.9536 - val_mae: 367.9536\n",
      "Epoch 9/300\n",
      "9/9 [==============================] - 0s 10ms/step - loss: 361.6635 - mae: 361.6635 - val_loss: 367.9489 - val_mae: 367.9489\n",
      "Epoch 10/300\n",
      "9/9 [==============================] - 0s 10ms/step - loss: 361.6587 - mae: 361.6587 - val_loss: 367.9444 - val_mae: 367.9444\n",
      "Epoch 11/300\n",
      "9/9 [==============================] - 0s 11ms/step - loss: 361.6551 - mae: 361.6551 - val_loss: 367.9400 - val_mae: 367.9400\n",
      "Epoch 12/300\n",
      "9/9 [==============================] - 0s 11ms/step - loss: 361.6504 - mae: 361.6504 - val_loss: 367.9358 - val_mae: 367.9358\n",
      "Epoch 13/300\n",
      "9/9 [==============================] - 0s 10ms/step - loss: 361.6461 - mae: 361.6461 - val_loss: 367.9318 - val_mae: 367.9318\n",
      "Epoch 14/300\n",
      "9/9 [==============================] - 0s 10ms/step - loss: 361.6426 - mae: 361.6426 - val_loss: 367.9279 - val_mae: 367.9279\n",
      "Epoch 15/300\n",
      "9/9 [==============================] - 0s 11ms/step - loss: 361.6383 - mae: 361.6383 - val_loss: 367.9240 - val_mae: 367.9240\n",
      "Epoch 16/300\n",
      "9/9 [==============================] - 0s 11ms/step - loss: 361.6350 - mae: 361.6350 - val_loss: 367.9203 - val_mae: 367.9203\n",
      "Epoch 17/300\n",
      "9/9 [==============================] - 0s 10ms/step - loss: 361.6312 - mae: 361.6312 - val_loss: 367.9166 - val_mae: 367.9166\n",
      "Epoch 18/300\n",
      "9/9 [==============================] - 0s 10ms/step - loss: 361.6273 - mae: 361.6273 - val_loss: 367.9130 - val_mae: 367.9130\n",
      "Epoch 19/300\n",
      "9/9 [==============================] - 0s 11ms/step - loss: 361.6239 - mae: 361.6239 - val_loss: 367.9095 - val_mae: 367.9095\n",
      "Epoch 20/300\n",
      "9/9 [==============================] - 0s 11ms/step - loss: 361.6205 - mae: 361.6205 - val_loss: 367.9060 - val_mae: 367.9060\n",
      "Epoch 21/300\n",
      "9/9 [==============================] - 0s 11ms/step - loss: 361.6170 - mae: 361.6170 - val_loss: 367.9025 - val_mae: 367.9025\n",
      "Epoch 22/300\n",
      "9/9 [==============================] - 0s 11ms/step - loss: 361.6137 - mae: 361.6137 - val_loss: 367.8991 - val_mae: 367.8991\n",
      "Epoch 23/300\n",
      "9/9 [==============================] - 0s 11ms/step - loss: 361.6100 - mae: 361.6100 - val_loss: 367.8956 - val_mae: 367.8956\n",
      "Epoch 24/300\n",
      "9/9 [==============================] - 0s 10ms/step - loss: 361.6074 - mae: 361.6074 - val_loss: 367.8923 - val_mae: 367.8923\n",
      "Epoch 25/300\n",
      "9/9 [==============================] - 0s 11ms/step - loss: 361.6039 - mae: 361.6039 - val_loss: 367.8889 - val_mae: 367.8889\n",
      "Epoch 26/300\n",
      "9/9 [==============================] - 0s 11ms/step - loss: 361.6005 - mae: 361.6005 - val_loss: 367.8856 - val_mae: 367.8856\n",
      "Epoch 27/300\n",
      "9/9 [==============================] - 0s 11ms/step - loss: 361.5973 - mae: 361.5973 - val_loss: 367.8822 - val_mae: 367.8822\n",
      "Epoch 28/300\n",
      "9/9 [==============================] - 0s 10ms/step - loss: 361.5938 - mae: 361.5938 - val_loss: 367.8788 - val_mae: 367.8788\n",
      "Epoch 29/300\n",
      "9/9 [==============================] - 0s 10ms/step - loss: 361.5912 - mae: 361.5912 - val_loss: 367.8755 - val_mae: 367.8755\n",
      "Epoch 30/300\n",
      "9/9 [==============================] - 0s 11ms/step - loss: 361.5877 - mae: 361.5877 - val_loss: 367.8723 - val_mae: 367.8723\n",
      "Epoch 31/300\n",
      "9/9 [==============================] - 0s 11ms/step - loss: 361.5842 - mae: 361.5842 - val_loss: 367.8689 - val_mae: 367.8689\n",
      "Epoch 32/300\n",
      "9/9 [==============================] - 0s 11ms/step - loss: 361.5812 - mae: 361.5812 - val_loss: 367.8656 - val_mae: 367.8656\n",
      "Epoch 33/300\n",
      "9/9 [==============================] - 0s 12ms/step - loss: 361.5775 - mae: 361.5775 - val_loss: 367.8623 - val_mae: 367.8623\n",
      "Epoch 34/300\n",
      "9/9 [==============================] - 0s 12ms/step - loss: 361.5747 - mae: 361.5747 - val_loss: 367.8591 - val_mae: 367.8591\n",
      "Epoch 35/300\n",
      "9/9 [==============================] - 0s 11ms/step - loss: 361.5707 - mae: 361.5707 - val_loss: 367.8558 - val_mae: 367.8558\n",
      "Epoch 36/300\n",
      "9/9 [==============================] - 0s 10ms/step - loss: 361.5685 - mae: 361.5685 - val_loss: 367.8526 - val_mae: 367.8526\n",
      "Epoch 37/300\n",
      "9/9 [==============================] - 0s 10ms/step - loss: 361.5656 - mae: 361.5656 - val_loss: 367.8494 - val_mae: 367.8494\n",
      "Epoch 38/300\n",
      "1/9 [==>...........................] - ETA: 0s - loss: 359.5463 - mae: 359.5463"
     ]
    },
    {
     "ename": "KeyboardInterrupt",
     "evalue": "",
     "output_type": "error",
     "traceback": [
      "\u001b[0;31m---------------------------------------------------------------------------\u001b[0m",
      "\u001b[0;31mKeyboardInterrupt\u001b[0m                         Traceback (most recent call last)",
      "\u001b[1;32m/Users/ayushpal/Coding/MachineLearning/MathModeling/code/ppm_LSTM.ipynb Cell 6\u001b[0m in \u001b[0;36m<cell line: 3>\u001b[0;34m()\u001b[0m\n\u001b[1;32m      <a href='vscode-notebook-cell:/Users/ayushpal/Coding/MachineLearning/MathModeling/code/ppm_LSTM.ipynb#W5sZmlsZQ%3D%3D?line=0'>1</a>\u001b[0m X_train, X_test, Y_train, Y_test \u001b[39m=\u001b[39m tts(X, Y, train_size\u001b[39m=\u001b[39m\u001b[39m0.8\u001b[39m)\n\u001b[0;32m----> <a href='vscode-notebook-cell:/Users/ayushpal/Coding/MachineLearning/MathModeling/code/ppm_LSTM.ipynb#W5sZmlsZQ%3D%3D?line=2'>3</a>\u001b[0m history \u001b[39m=\u001b[39m model\u001b[39m.\u001b[39;49mfit(\n\u001b[1;32m      <a href='vscode-notebook-cell:/Users/ayushpal/Coding/MachineLearning/MathModeling/code/ppm_LSTM.ipynb#W5sZmlsZQ%3D%3D?line=3'>4</a>\u001b[0m     x\u001b[39m=\u001b[39;49mX_train,\n\u001b[1;32m      <a href='vscode-notebook-cell:/Users/ayushpal/Coding/MachineLearning/MathModeling/code/ppm_LSTM.ipynb#W5sZmlsZQ%3D%3D?line=4'>5</a>\u001b[0m     y\u001b[39m=\u001b[39;49mY_train,\n\u001b[1;32m      <a href='vscode-notebook-cell:/Users/ayushpal/Coding/MachineLearning/MathModeling/code/ppm_LSTM.ipynb#W5sZmlsZQ%3D%3D?line=5'>6</a>\u001b[0m     validation_data\u001b[39m=\u001b[39;49m(X_test, Y_test),\n\u001b[1;32m      <a href='vscode-notebook-cell:/Users/ayushpal/Coding/MachineLearning/MathModeling/code/ppm_LSTM.ipynb#W5sZmlsZQ%3D%3D?line=6'>7</a>\u001b[0m     batch_size\u001b[39m=\u001b[39;49m\u001b[39m5\u001b[39;49m,\n\u001b[1;32m      <a href='vscode-notebook-cell:/Users/ayushpal/Coding/MachineLearning/MathModeling/code/ppm_LSTM.ipynb#W5sZmlsZQ%3D%3D?line=7'>8</a>\u001b[0m     epochs\u001b[39m=\u001b[39;49m\u001b[39m300\u001b[39;49m\n\u001b[1;32m      <a href='vscode-notebook-cell:/Users/ayushpal/Coding/MachineLearning/MathModeling/code/ppm_LSTM.ipynb#W5sZmlsZQ%3D%3D?line=8'>9</a>\u001b[0m )\n",
      "File \u001b[0;32m~/opt/anaconda3/lib/python3.9/site-packages/keras/utils/traceback_utils.py:64\u001b[0m, in \u001b[0;36mfilter_traceback.<locals>.error_handler\u001b[0;34m(*args, **kwargs)\u001b[0m\n\u001b[1;32m     62\u001b[0m filtered_tb \u001b[39m=\u001b[39m \u001b[39mNone\u001b[39;00m\n\u001b[1;32m     63\u001b[0m \u001b[39mtry\u001b[39;00m:\n\u001b[0;32m---> 64\u001b[0m   \u001b[39mreturn\u001b[39;00m fn(\u001b[39m*\u001b[39;49margs, \u001b[39m*\u001b[39;49m\u001b[39m*\u001b[39;49mkwargs)\n\u001b[1;32m     65\u001b[0m \u001b[39mexcept\u001b[39;00m \u001b[39mException\u001b[39;00m \u001b[39mas\u001b[39;00m e:  \u001b[39m# pylint: disable=broad-except\u001b[39;00m\n\u001b[1;32m     66\u001b[0m   filtered_tb \u001b[39m=\u001b[39m _process_traceback_frames(e\u001b[39m.\u001b[39m__traceback__)\n",
      "File \u001b[0;32m~/opt/anaconda3/lib/python3.9/site-packages/keras/engine/training.py:1409\u001b[0m, in \u001b[0;36mModel.fit\u001b[0;34m(self, x, y, batch_size, epochs, verbose, callbacks, validation_split, validation_data, shuffle, class_weight, sample_weight, initial_epoch, steps_per_epoch, validation_steps, validation_batch_size, validation_freq, max_queue_size, workers, use_multiprocessing)\u001b[0m\n\u001b[1;32m   1402\u001b[0m \u001b[39mwith\u001b[39;00m tf\u001b[39m.\u001b[39mprofiler\u001b[39m.\u001b[39mexperimental\u001b[39m.\u001b[39mTrace(\n\u001b[1;32m   1403\u001b[0m     \u001b[39m'\u001b[39m\u001b[39mtrain\u001b[39m\u001b[39m'\u001b[39m,\n\u001b[1;32m   1404\u001b[0m     epoch_num\u001b[39m=\u001b[39mepoch,\n\u001b[1;32m   1405\u001b[0m     step_num\u001b[39m=\u001b[39mstep,\n\u001b[1;32m   1406\u001b[0m     batch_size\u001b[39m=\u001b[39mbatch_size,\n\u001b[1;32m   1407\u001b[0m     _r\u001b[39m=\u001b[39m\u001b[39m1\u001b[39m):\n\u001b[1;32m   1408\u001b[0m   callbacks\u001b[39m.\u001b[39mon_train_batch_begin(step)\n\u001b[0;32m-> 1409\u001b[0m   tmp_logs \u001b[39m=\u001b[39m \u001b[39mself\u001b[39;49m\u001b[39m.\u001b[39;49mtrain_function(iterator)\n\u001b[1;32m   1410\u001b[0m   \u001b[39mif\u001b[39;00m data_handler\u001b[39m.\u001b[39mshould_sync:\n\u001b[1;32m   1411\u001b[0m     context\u001b[39m.\u001b[39masync_wait()\n",
      "File \u001b[0;32m~/opt/anaconda3/lib/python3.9/site-packages/tensorflow/python/util/traceback_utils.py:150\u001b[0m, in \u001b[0;36mfilter_traceback.<locals>.error_handler\u001b[0;34m(*args, **kwargs)\u001b[0m\n\u001b[1;32m    148\u001b[0m filtered_tb \u001b[39m=\u001b[39m \u001b[39mNone\u001b[39;00m\n\u001b[1;32m    149\u001b[0m \u001b[39mtry\u001b[39;00m:\n\u001b[0;32m--> 150\u001b[0m   \u001b[39mreturn\u001b[39;00m fn(\u001b[39m*\u001b[39;49margs, \u001b[39m*\u001b[39;49m\u001b[39m*\u001b[39;49mkwargs)\n\u001b[1;32m    151\u001b[0m \u001b[39mexcept\u001b[39;00m \u001b[39mException\u001b[39;00m \u001b[39mas\u001b[39;00m e:\n\u001b[1;32m    152\u001b[0m   filtered_tb \u001b[39m=\u001b[39m _process_traceback_frames(e\u001b[39m.\u001b[39m__traceback__)\n",
      "File \u001b[0;32m~/opt/anaconda3/lib/python3.9/site-packages/tensorflow/python/eager/def_function.py:915\u001b[0m, in \u001b[0;36mFunction.__call__\u001b[0;34m(self, *args, **kwds)\u001b[0m\n\u001b[1;32m    912\u001b[0m compiler \u001b[39m=\u001b[39m \u001b[39m\"\u001b[39m\u001b[39mxla\u001b[39m\u001b[39m\"\u001b[39m \u001b[39mif\u001b[39;00m \u001b[39mself\u001b[39m\u001b[39m.\u001b[39m_jit_compile \u001b[39melse\u001b[39;00m \u001b[39m\"\u001b[39m\u001b[39mnonXla\u001b[39m\u001b[39m\"\u001b[39m\n\u001b[1;32m    914\u001b[0m \u001b[39mwith\u001b[39;00m OptionalXlaContext(\u001b[39mself\u001b[39m\u001b[39m.\u001b[39m_jit_compile):\n\u001b[0;32m--> 915\u001b[0m   result \u001b[39m=\u001b[39m \u001b[39mself\u001b[39;49m\u001b[39m.\u001b[39;49m_call(\u001b[39m*\u001b[39;49margs, \u001b[39m*\u001b[39;49m\u001b[39m*\u001b[39;49mkwds)\n\u001b[1;32m    917\u001b[0m new_tracing_count \u001b[39m=\u001b[39m \u001b[39mself\u001b[39m\u001b[39m.\u001b[39mexperimental_get_tracing_count()\n\u001b[1;32m    918\u001b[0m without_tracing \u001b[39m=\u001b[39m (tracing_count \u001b[39m==\u001b[39m new_tracing_count)\n",
      "File \u001b[0;32m~/opt/anaconda3/lib/python3.9/site-packages/tensorflow/python/eager/def_function.py:947\u001b[0m, in \u001b[0;36mFunction._call\u001b[0;34m(self, *args, **kwds)\u001b[0m\n\u001b[1;32m    944\u001b[0m   \u001b[39mself\u001b[39m\u001b[39m.\u001b[39m_lock\u001b[39m.\u001b[39mrelease()\n\u001b[1;32m    945\u001b[0m   \u001b[39m# In this case we have created variables on the first call, so we run the\u001b[39;00m\n\u001b[1;32m    946\u001b[0m   \u001b[39m# defunned version which is guaranteed to never create variables.\u001b[39;00m\n\u001b[0;32m--> 947\u001b[0m   \u001b[39mreturn\u001b[39;00m \u001b[39mself\u001b[39;49m\u001b[39m.\u001b[39;49m_stateless_fn(\u001b[39m*\u001b[39;49margs, \u001b[39m*\u001b[39;49m\u001b[39m*\u001b[39;49mkwds)  \u001b[39m# pylint: disable=not-callable\u001b[39;00m\n\u001b[1;32m    948\u001b[0m \u001b[39melif\u001b[39;00m \u001b[39mself\u001b[39m\u001b[39m.\u001b[39m_stateful_fn \u001b[39mis\u001b[39;00m \u001b[39mnot\u001b[39;00m \u001b[39mNone\u001b[39;00m:\n\u001b[1;32m    949\u001b[0m   \u001b[39m# Release the lock early so that multiple threads can perform the call\u001b[39;00m\n\u001b[1;32m    950\u001b[0m   \u001b[39m# in parallel.\u001b[39;00m\n\u001b[1;32m    951\u001b[0m   \u001b[39mself\u001b[39m\u001b[39m.\u001b[39m_lock\u001b[39m.\u001b[39mrelease()\n",
      "File \u001b[0;32m~/opt/anaconda3/lib/python3.9/site-packages/tensorflow/python/eager/function.py:2453\u001b[0m, in \u001b[0;36mFunction.__call__\u001b[0;34m(self, *args, **kwargs)\u001b[0m\n\u001b[1;32m   2450\u001b[0m \u001b[39mwith\u001b[39;00m \u001b[39mself\u001b[39m\u001b[39m.\u001b[39m_lock:\n\u001b[1;32m   2451\u001b[0m   (graph_function,\n\u001b[1;32m   2452\u001b[0m    filtered_flat_args) \u001b[39m=\u001b[39m \u001b[39mself\u001b[39m\u001b[39m.\u001b[39m_maybe_define_function(args, kwargs)\n\u001b[0;32m-> 2453\u001b[0m \u001b[39mreturn\u001b[39;00m graph_function\u001b[39m.\u001b[39;49m_call_flat(\n\u001b[1;32m   2454\u001b[0m     filtered_flat_args, captured_inputs\u001b[39m=\u001b[39;49mgraph_function\u001b[39m.\u001b[39;49mcaptured_inputs)\n",
      "File \u001b[0;32m~/opt/anaconda3/lib/python3.9/site-packages/tensorflow/python/eager/function.py:1860\u001b[0m, in \u001b[0;36mConcreteFunction._call_flat\u001b[0;34m(self, args, captured_inputs, cancellation_manager)\u001b[0m\n\u001b[1;32m   1856\u001b[0m possible_gradient_type \u001b[39m=\u001b[39m gradients_util\u001b[39m.\u001b[39mPossibleTapeGradientTypes(args)\n\u001b[1;32m   1857\u001b[0m \u001b[39mif\u001b[39;00m (possible_gradient_type \u001b[39m==\u001b[39m gradients_util\u001b[39m.\u001b[39mPOSSIBLE_GRADIENT_TYPES_NONE\n\u001b[1;32m   1858\u001b[0m     \u001b[39mand\u001b[39;00m executing_eagerly):\n\u001b[1;32m   1859\u001b[0m   \u001b[39m# No tape is watching; skip to running the function.\u001b[39;00m\n\u001b[0;32m-> 1860\u001b[0m   \u001b[39mreturn\u001b[39;00m \u001b[39mself\u001b[39m\u001b[39m.\u001b[39m_build_call_outputs(\u001b[39mself\u001b[39;49m\u001b[39m.\u001b[39;49m_inference_function\u001b[39m.\u001b[39;49mcall(\n\u001b[1;32m   1861\u001b[0m       ctx, args, cancellation_manager\u001b[39m=\u001b[39;49mcancellation_manager))\n\u001b[1;32m   1862\u001b[0m forward_backward \u001b[39m=\u001b[39m \u001b[39mself\u001b[39m\u001b[39m.\u001b[39m_select_forward_and_backward_functions(\n\u001b[1;32m   1863\u001b[0m     args,\n\u001b[1;32m   1864\u001b[0m     possible_gradient_type,\n\u001b[1;32m   1865\u001b[0m     executing_eagerly)\n\u001b[1;32m   1866\u001b[0m forward_function, args_with_tangents \u001b[39m=\u001b[39m forward_backward\u001b[39m.\u001b[39mforward()\n",
      "File \u001b[0;32m~/opt/anaconda3/lib/python3.9/site-packages/tensorflow/python/eager/function.py:497\u001b[0m, in \u001b[0;36m_EagerDefinedFunction.call\u001b[0;34m(self, ctx, args, cancellation_manager)\u001b[0m\n\u001b[1;32m    495\u001b[0m \u001b[39mwith\u001b[39;00m _InterpolateFunctionError(\u001b[39mself\u001b[39m):\n\u001b[1;32m    496\u001b[0m   \u001b[39mif\u001b[39;00m cancellation_manager \u001b[39mis\u001b[39;00m \u001b[39mNone\u001b[39;00m:\n\u001b[0;32m--> 497\u001b[0m     outputs \u001b[39m=\u001b[39m execute\u001b[39m.\u001b[39;49mexecute(\n\u001b[1;32m    498\u001b[0m         \u001b[39mstr\u001b[39;49m(\u001b[39mself\u001b[39;49m\u001b[39m.\u001b[39;49msignature\u001b[39m.\u001b[39;49mname),\n\u001b[1;32m    499\u001b[0m         num_outputs\u001b[39m=\u001b[39;49m\u001b[39mself\u001b[39;49m\u001b[39m.\u001b[39;49m_num_outputs,\n\u001b[1;32m    500\u001b[0m         inputs\u001b[39m=\u001b[39;49margs,\n\u001b[1;32m    501\u001b[0m         attrs\u001b[39m=\u001b[39;49mattrs,\n\u001b[1;32m    502\u001b[0m         ctx\u001b[39m=\u001b[39;49mctx)\n\u001b[1;32m    503\u001b[0m   \u001b[39melse\u001b[39;00m:\n\u001b[1;32m    504\u001b[0m     outputs \u001b[39m=\u001b[39m execute\u001b[39m.\u001b[39mexecute_with_cancellation(\n\u001b[1;32m    505\u001b[0m         \u001b[39mstr\u001b[39m(\u001b[39mself\u001b[39m\u001b[39m.\u001b[39msignature\u001b[39m.\u001b[39mname),\n\u001b[1;32m    506\u001b[0m         num_outputs\u001b[39m=\u001b[39m\u001b[39mself\u001b[39m\u001b[39m.\u001b[39m_num_outputs,\n\u001b[0;32m   (...)\u001b[0m\n\u001b[1;32m    509\u001b[0m         ctx\u001b[39m=\u001b[39mctx,\n\u001b[1;32m    510\u001b[0m         cancellation_manager\u001b[39m=\u001b[39mcancellation_manager)\n",
      "File \u001b[0;32m~/opt/anaconda3/lib/python3.9/site-packages/tensorflow/python/eager/execute.py:54\u001b[0m, in \u001b[0;36mquick_execute\u001b[0;34m(op_name, num_outputs, inputs, attrs, ctx, name)\u001b[0m\n\u001b[1;32m     52\u001b[0m \u001b[39mtry\u001b[39;00m:\n\u001b[1;32m     53\u001b[0m   ctx\u001b[39m.\u001b[39mensure_initialized()\n\u001b[0;32m---> 54\u001b[0m   tensors \u001b[39m=\u001b[39m pywrap_tfe\u001b[39m.\u001b[39;49mTFE_Py_Execute(ctx\u001b[39m.\u001b[39;49m_handle, device_name, op_name,\n\u001b[1;32m     55\u001b[0m                                       inputs, attrs, num_outputs)\n\u001b[1;32m     56\u001b[0m \u001b[39mexcept\u001b[39;00m core\u001b[39m.\u001b[39m_NotOkStatusException \u001b[39mas\u001b[39;00m e:\n\u001b[1;32m     57\u001b[0m   \u001b[39mif\u001b[39;00m name \u001b[39mis\u001b[39;00m \u001b[39mnot\u001b[39;00m \u001b[39mNone\u001b[39;00m:\n",
      "\u001b[0;31mKeyboardInterrupt\u001b[0m: "
     ]
    }
   ],
   "source": [
    "X_train, X_test, Y_train, Y_test = tts(X, Y, train_size=0.8)\n",
    "\n",
    "history = model.fit(\n",
    "    x=X_train,\n",
    "    y=Y_train,\n",
    "    validation_data=(X_test, Y_test),\n",
    "    batch_size=5,\n",
    "    epochs=300\n",
    ")"
   ]
  },
  {
   "cell_type": "code",
   "execution_count": 146,
   "metadata": {},
   "outputs": [
    {
     "data": {
      "text/plain": [
       "[<matplotlib.lines.Line2D at 0x7ff307959bb0>]"
      ]
     },
     "execution_count": 146,
     "metadata": {},
     "output_type": "execute_result"
    },
    {
     "data": {
      "image/png": "[encoded data removed]",
      "text/plain": [
       "<Figure size 432x288 with 1 Axes>"
      ]
     },
     "metadata": {
      "needs_background": "light"
     },
     "output_type": "display_data"
    }
   ],
   "source": [
    "plt.plot(history.history['loss'])\n",
    "plt.plot(history.history['val_loss'])"
   ]
  },
  {
   "cell_type": "code",
   "execution_count": null,
   "metadata": {},
   "outputs": [],
   "source": []
  }
 ],
 "metadata": {
  "kernelspec": {
   "display_name": "Python 3.9.12 ('base')",
   "language": "python",
   "name": "python3"
  },
  "language_info": {
   "codemirror_mode": {
    "name": "ipython",
    "version": 3
   },
   "file_extension": ".py",
   "mimetype": "text/x-python",
   "name": "python",
   "nbconvert_exporter": "python",
   "pygments_lexer": "ipython3",
   "version": "3.9.12"
  },
  "orig_nbformat": 4,
  "vscode": {
   "interpreter": {
    "hash": "21096360398365a9f1d9967aa419e1cfc324a03085554bd8f42696e4d11fd526"
   }
  }
 },
 "nbformat": 4,
 "nbformat_minor": 2
}
